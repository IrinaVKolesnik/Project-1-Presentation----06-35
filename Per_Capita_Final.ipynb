{
 "cells": [
  {
   "cell_type": "code",
   "execution_count": 1,
   "metadata": {
    "collapsed": true
   },
   "outputs": [],
   "source": [
    "## Per_Capita_Final\n",
    "#dependencies\n",
    "import pandas as pd\n",
    "import os\n",
    "import matplotlib.pyplot as plt\n",
    "import numpy as np"
   ]
  },
  {
   "cell_type": "code",
   "execution_count": 2,
   "metadata": {
    "collapsed": true
   },
   "outputs": [],
   "source": [
    "#read in CSVs\n",
    "file_one = pd.read_csv(\"per_capita_income_final.csv\")\n",
    "file_two = pd.read_csv(\"employment_compensation_final.csv\")\n",
    "file_three = pd.read_csv(\"total_employment_final.csv\")"
   ]
  },
  {
   "cell_type": "code",
   "execution_count": 3,
   "metadata": {},
   "outputs": [
    {
     "data": {
      "text/html": [
       "<div>\n",
       "<style>\n",
       "    .dataframe thead tr:only-child th {\n",
       "        text-align: right;\n",
       "    }\n",
       "\n",
       "    .dataframe thead th {\n",
       "        text-align: left;\n",
       "    }\n",
       "\n",
       "    .dataframe tbody tr th {\n",
       "        vertical-align: top;\n",
       "    }\n",
       "</style>\n",
       "<table border=\"1\" class=\"dataframe\">\n",
       "  <thead>\n",
       "    <tr style=\"text-align: right;\">\n",
       "      <th></th>\n",
       "      <th>GeoName</th>\n",
       "      <th>Description</th>\n",
       "      <th>2012</th>\n",
       "      <th>2013</th>\n",
       "      <th>2014</th>\n",
       "      <th>2015</th>\n",
       "      <th>2016</th>\n",
       "    </tr>\n",
       "  </thead>\n",
       "  <tbody>\n",
       "    <tr>\n",
       "      <th>1</th>\n",
       "      <td>Houston-The Woodlands-Sugar Land, TX (Metropol...</td>\n",
       "      <td>Population (persons) 1/</td>\n",
       "      <td>6180817</td>\n",
       "      <td>6324167</td>\n",
       "      <td>6488046</td>\n",
       "      <td>6647465</td>\n",
       "      <td>6772470</td>\n",
       "    </tr>\n",
       "    <tr>\n",
       "      <th>2</th>\n",
       "      <td>Houston-The Woodlands-Sugar Land, TX (Metropol...</td>\n",
       "      <td>Per capita personal income (dollars) 2/</td>\n",
       "      <td>51676</td>\n",
       "      <td>50979</td>\n",
       "      <td>53791</td>\n",
       "      <td>53859</td>\n",
       "      <td>51913</td>\n",
       "    </tr>\n",
       "    <tr>\n",
       "      <th>4</th>\n",
       "      <td>New York-Newark-Jersey City, NY-NJ-PA (Metropo...</td>\n",
       "      <td>Population (persons) 1/</td>\n",
       "      <td>19864434</td>\n",
       "      <td>19968845</td>\n",
       "      <td>20052234</td>\n",
       "      <td>20118063</td>\n",
       "      <td>20153634</td>\n",
       "    </tr>\n",
       "    <tr>\n",
       "      <th>5</th>\n",
       "      <td>New York-Newark-Jersey City, NY-NJ-PA (Metropo...</td>\n",
       "      <td>Per capita personal income (dollars) 2/</td>\n",
       "      <td>59296</td>\n",
       "      <td>59947</td>\n",
       "      <td>62086</td>\n",
       "      <td>64679</td>\n",
       "      <td>65846</td>\n",
       "    </tr>\n",
       "    <tr>\n",
       "      <th>7</th>\n",
       "      <td>San Francisco-Oakland-Hayward, CA (Metropolita...</td>\n",
       "      <td>Population (persons) 1/</td>\n",
       "      <td>4458646</td>\n",
       "      <td>4521994</td>\n",
       "      <td>4585623</td>\n",
       "      <td>4642227</td>\n",
       "      <td>4679166</td>\n",
       "    </tr>\n",
       "    <tr>\n",
       "      <th>8</th>\n",
       "      <td>San Francisco-Oakland-Hayward, CA (Metropolita...</td>\n",
       "      <td>Per capita personal income (dollars) 2/</td>\n",
       "      <td>69751</td>\n",
       "      <td>70352</td>\n",
       "      <td>75042</td>\n",
       "      <td>81241</td>\n",
       "      <td>84675</td>\n",
       "    </tr>\n",
       "    <tr>\n",
       "      <th>10</th>\n",
       "      <td>San Jose-Sunnyvale-Santa Clara, CA (Metropolit...</td>\n",
       "      <td>Population (persons) 1/</td>\n",
       "      <td>1895787</td>\n",
       "      <td>1924432</td>\n",
       "      <td>1947922</td>\n",
       "      <td>1968578</td>\n",
       "      <td>1978816</td>\n",
       "    </tr>\n",
       "    <tr>\n",
       "      <th>11</th>\n",
       "      <td>San Jose-Sunnyvale-Santa Clara, CA (Metropolit...</td>\n",
       "      <td>Per capita personal income (dollars) 2/</td>\n",
       "      <td>71846</td>\n",
       "      <td>71428</td>\n",
       "      <td>77227</td>\n",
       "      <td>84150</td>\n",
       "      <td>87643</td>\n",
       "    </tr>\n",
       "  </tbody>\n",
       "</table>\n",
       "</div>"
      ],
      "text/plain": [
       "                                              GeoName  \\\n",
       "1   Houston-The Woodlands-Sugar Land, TX (Metropol...   \n",
       "2   Houston-The Woodlands-Sugar Land, TX (Metropol...   \n",
       "4   New York-Newark-Jersey City, NY-NJ-PA (Metropo...   \n",
       "5   New York-Newark-Jersey City, NY-NJ-PA (Metropo...   \n",
       "7   San Francisco-Oakland-Hayward, CA (Metropolita...   \n",
       "8   San Francisco-Oakland-Hayward, CA (Metropolita...   \n",
       "10  San Jose-Sunnyvale-Santa Clara, CA (Metropolit...   \n",
       "11  San Jose-Sunnyvale-Santa Clara, CA (Metropolit...   \n",
       "\n",
       "                                Description      2012      2013      2014  \\\n",
       "1                   Population (persons) 1/   6180817   6324167   6488046   \n",
       "2   Per capita personal income (dollars) 2/     51676     50979     53791   \n",
       "4                   Population (persons) 1/  19864434  19968845  20052234   \n",
       "5   Per capita personal income (dollars) 2/     59296     59947     62086   \n",
       "7                   Population (persons) 1/   4458646   4521994   4585623   \n",
       "8   Per capita personal income (dollars) 2/     69751     70352     75042   \n",
       "10                  Population (persons) 1/   1895787   1924432   1947922   \n",
       "11  Per capita personal income (dollars) 2/     71846     71428     77227   \n",
       "\n",
       "        2015      2016  \n",
       "1    6647465   6772470  \n",
       "2      53859     51913  \n",
       "4   20118063  20153634  \n",
       "5      64679     65846  \n",
       "7    4642227   4679166  \n",
       "8      81241     84675  \n",
       "10   1968578   1978816  \n",
       "11     84150     87643  "
      ]
     },
     "execution_count": 3,
     "metadata": {},
     "output_type": "execute_result"
    }
   ],
   "source": [
    "#population and per capita income per metro area\n",
    "percapita_income_df = pd.DataFrame(file_one)\n",
    "percapita_income_df = percapita_income_df[~percapita_income_df['Description'].isin(['Personal income (thousands of dollars)'])]\n",
    "percapita_income_df"
   ]
  },
  {
   "cell_type": "code",
   "execution_count": 14,
   "metadata": {},
   "outputs": [
    {
     "data": {
      "text/html": [
       "<div>\n",
       "<style>\n",
       "    .dataframe thead tr:only-child th {\n",
       "        text-align: right;\n",
       "    }\n",
       "\n",
       "    .dataframe thead th {\n",
       "        text-align: left;\n",
       "    }\n",
       "\n",
       "    .dataframe tbody tr th {\n",
       "        vertical-align: top;\n",
       "    }\n",
       "</style>\n",
       "<table border=\"1\" class=\"dataframe\">\n",
       "  <thead>\n",
       "    <tr style=\"text-align: right;\">\n",
       "      <th></th>\n",
       "      <th>Description</th>\n",
       "      <th>2012</th>\n",
       "      <th>2013</th>\n",
       "      <th>2014</th>\n",
       "      <th>2015</th>\n",
       "      <th>2016</th>\n",
       "    </tr>\n",
       "  </thead>\n",
       "  <tbody>\n",
       "    <tr>\n",
       "      <th>0</th>\n",
       "      <td>Per capita personal income (dollars) 2/</td>\n",
       "      <td>70798.5</td>\n",
       "      <td>70890.0</td>\n",
       "      <td>76134.5</td>\n",
       "      <td>82695.5</td>\n",
       "      <td>86159.0</td>\n",
       "    </tr>\n",
       "    <tr>\n",
       "      <th>1</th>\n",
       "      <td>Population (persons) 1/</td>\n",
       "      <td>3177216.5</td>\n",
       "      <td>3223213.0</td>\n",
       "      <td>3266772.5</td>\n",
       "      <td>3305402.5</td>\n",
       "      <td>3328991.0</td>\n",
       "    </tr>\n",
       "  </tbody>\n",
       "</table>\n",
       "</div>"
      ],
      "text/plain": [
       "                               Description       2012       2013       2014  \\\n",
       "0  Per capita personal income (dollars) 2/    70798.5    70890.0    76134.5   \n",
       "1                  Population (persons) 1/  3177216.5  3223213.0  3266772.5   \n",
       "\n",
       "        2015       2016  \n",
       "0    82695.5    86159.0  \n",
       "1  3305402.5  3328991.0  "
      ]
     },
     "execution_count": 14,
     "metadata": {},
     "output_type": "execute_result"
    }
   ],
   "source": [
    "#ca per capita \n",
    "CA_metros_PC = percapita_income_df[percapita_income_df['GeoName'].str.contains(\", CA\")]\n",
    "CA_metros_group_description=CA_metros_PC.groupby([\"Description\"]).mean()\n",
    "CA_metros_group_description.reset_index(inplace=True)\n",
    "CA_metros_group_description"
   ]
  },
  {
   "cell_type": "code",
   "execution_count": 68,
   "metadata": {},
   "outputs": [
    {
     "data": {
      "text/html": [
       "<div>\n",
       "<style>\n",
       "    .dataframe thead tr:only-child th {\n",
       "        text-align: right;\n",
       "    }\n",
       "\n",
       "    .dataframe thead th {\n",
       "        text-align: left;\n",
       "    }\n",
       "\n",
       "    .dataframe tbody tr th {\n",
       "        vertical-align: top;\n",
       "    }\n",
       "</style>\n",
       "<table border=\"1\" class=\"dataframe\">\n",
       "  <thead>\n",
       "    <tr style=\"text-align: right;\">\n",
       "      <th></th>\n",
       "      <th>2012</th>\n",
       "      <th>2013</th>\n",
       "      <th>2014</th>\n",
       "      <th>2015</th>\n",
       "      <th>2016</th>\n",
       "    </tr>\n",
       "    <tr>\n",
       "      <th>City</th>\n",
       "      <th></th>\n",
       "      <th></th>\n",
       "      <th></th>\n",
       "      <th></th>\n",
       "      <th></th>\n",
       "    </tr>\n",
       "  </thead>\n",
       "  <tbody>\n",
       "    <tr>\n",
       "      <th>SF/Bay Area</th>\n",
       "      <td>70798.5</td>\n",
       "      <td>70890</td>\n",
       "      <td>76134.5</td>\n",
       "      <td>82695.5</td>\n",
       "      <td>86159</td>\n",
       "    </tr>\n",
       "  </tbody>\n",
       "</table>\n",
       "</div>"
      ],
      "text/plain": [
       "                2012   2013     2014     2015   2016\n",
       "City                                                \n",
       "SF/Bay Area  70798.5  70890  76134.5  82695.5  86159"
      ]
     },
     "execution_count": 68,
     "metadata": {},
     "output_type": "execute_result"
    }
   ],
   "source": [
    "#ca per capita continued\n",
    "Per_Capita_final_CA=CA_metros_group_description.iloc[0,:]\n",
    "Per_Capita_final_df_CA=pd.DataFrame(Per_Capita_final_CA)\n",
    "Per_Capita_final_df_CA=Per_Capita_final_df_CA.T\n",
    "del Per_Capita_final_df_CA[\"Description\"]\n",
    "Per_Capita_final_df_CA[\"City\"]=\"SF/Bay Area\"\n",
    "Per_Capita_final_df_CA=Per_Capita_final_df_CA.set_index(\"City\")\n",
    "Per_Capita_final_df_CA"
   ]
  },
  {
   "cell_type": "code",
   "execution_count": 80,
   "metadata": {},
   "outputs": [
    {
     "data": {
      "text/html": [
       "<div>\n",
       "<style>\n",
       "    .dataframe thead tr:only-child th {\n",
       "        text-align: right;\n",
       "    }\n",
       "\n",
       "    .dataframe thead th {\n",
       "        text-align: left;\n",
       "    }\n",
       "\n",
       "    .dataframe tbody tr th {\n",
       "        vertical-align: top;\n",
       "    }\n",
       "</style>\n",
       "<table border=\"1\" class=\"dataframe\">\n",
       "  <thead>\n",
       "    <tr style=\"text-align: right;\">\n",
       "      <th></th>\n",
       "      <th>2012</th>\n",
       "      <th>2013</th>\n",
       "      <th>2014</th>\n",
       "      <th>2015</th>\n",
       "      <th>2016</th>\n",
       "    </tr>\n",
       "    <tr>\n",
       "      <th>City</th>\n",
       "      <th></th>\n",
       "      <th></th>\n",
       "      <th></th>\n",
       "      <th></th>\n",
       "      <th></th>\n",
       "    </tr>\n",
       "  </thead>\n",
       "  <tbody>\n",
       "    <tr>\n",
       "      <th>New York</th>\n",
       "      <td>59296</td>\n",
       "      <td>59947</td>\n",
       "      <td>62086</td>\n",
       "      <td>64679</td>\n",
       "      <td>65846</td>\n",
       "    </tr>\n",
       "  </tbody>\n",
       "</table>\n",
       "</div>"
      ],
      "text/plain": [
       "           2012   2013   2014   2015   2016\n",
       "City                                       \n",
       "New York  59296  59947  62086  64679  65846"
      ]
     },
     "execution_count": 80,
     "metadata": {},
     "output_type": "execute_result"
    }
   ],
   "source": [
    "#new york per capita data\n",
    "NY_metros_PC = percapita_income_df[percapita_income_df['GeoName'].str.contains(\", NY-NJ-PA\")]\n",
    "NY_metros_group_description=NY_metros_PC.groupby([\"Description\"]).mean()\n",
    "NY_metros_group_description.reset_index(inplace=True)\n",
    "NY_metros_group_description\n",
    "Per_Capita_final_NY=NY_metros_group_description.iloc[0,:]\n",
    "Per_Capita_final_df_NY=pd.DataFrame(Per_Capita_final_NY)\n",
    "Per_Capita_final_df_NY=Per_Capita_final_df_NY.T\n",
    "del Per_Capita_final_df_NY[\"Description\"]\n",
    "Per_Capita_final_df_NY[\"City\"]=\"New York\"\n",
    "Per_Capita_final_df_NY=Per_Capita_final_df_NY.set_index(\"City\")\n",
    "Per_Capita_final_df_NY\n"
   ]
  },
  {
   "cell_type": "code",
   "execution_count": 79,
   "metadata": {},
   "outputs": [
    {
     "data": {
      "text/html": [
       "<div>\n",
       "<style>\n",
       "    .dataframe thead tr:only-child th {\n",
       "        text-align: right;\n",
       "    }\n",
       "\n",
       "    .dataframe thead th {\n",
       "        text-align: left;\n",
       "    }\n",
       "\n",
       "    .dataframe tbody tr th {\n",
       "        vertical-align: top;\n",
       "    }\n",
       "</style>\n",
       "<table border=\"1\" class=\"dataframe\">\n",
       "  <thead>\n",
       "    <tr style=\"text-align: right;\">\n",
       "      <th></th>\n",
       "      <th>2012</th>\n",
       "      <th>2013</th>\n",
       "      <th>2014</th>\n",
       "      <th>2015</th>\n",
       "      <th>2016</th>\n",
       "    </tr>\n",
       "    <tr>\n",
       "      <th>City</th>\n",
       "      <th></th>\n",
       "      <th></th>\n",
       "      <th></th>\n",
       "      <th></th>\n",
       "      <th></th>\n",
       "    </tr>\n",
       "  </thead>\n",
       "  <tbody>\n",
       "    <tr>\n",
       "      <th>TX</th>\n",
       "      <td>51676</td>\n",
       "      <td>50979</td>\n",
       "      <td>53791</td>\n",
       "      <td>53859</td>\n",
       "      <td>51913</td>\n",
       "    </tr>\n",
       "  </tbody>\n",
       "</table>\n",
       "</div>"
      ],
      "text/plain": [
       "       2012   2013   2014   2015   2016\n",
       "City                                   \n",
       "TX    51676  50979  53791  53859  51913"
      ]
     },
     "execution_count": 79,
     "metadata": {},
     "output_type": "execute_result"
    }
   ],
   "source": [
    "#texas per capita data\n",
    "TX_metros_PC = percapita_income_df[percapita_income_df['GeoName'].str.contains(\", TX\")]\n",
    "TX_metros_group_description=TX_metros_PC.groupby([\"Description\"]).mean()\n",
    "TX_metros_group_description.reset_index(inplace=True)\n",
    "TX_metros_group_description\n",
    "Per_Capita_final_TX=TX_metros_group_description.iloc[0,:]\n",
    "Per_Capita_final_df_TX=pd.DataFrame(Per_Capita_final_TX)\n",
    "Per_Capita_final_df_TX=Per_Capita_final_df_TX.T\n",
    "del Per_Capita_final_df_TX[\"Description\"]\n",
    "Per_Capita_final_df_TX[\"City\"]=\"TX\"\n",
    "Per_Capita_final_df_TX=Per_Capita_final_df_TX.set_index(\"City\")\n",
    "Per_Capita_final_df_TX"
   ]
  },
  {
   "cell_type": "code",
   "execution_count": 83,
   "metadata": {},
   "outputs": [
    {
     "data": {
      "image/png": "[encoded data removed]",
      "text/plain": [
       "<matplotlib.figure.Figure at 0x10aa74470>"
      ]
     },
     "metadata": {},
     "output_type": "display_data"
    },
    {
     "data": {
      "image/png": "[encoded data removed]",
      "text/plain": [
       "<matplotlib.figure.Figure at 0x10aa74a90>"
      ]
     },
     "metadata": {},
     "output_type": "display_data"
    },
    {
     "data": {
      "image/png": "[encoded data removed]",
      "text/plain": [
       "<matplotlib.figure.Figure at 0x10b21bef0>"
      ]
     },
     "metadata": {},
     "output_type": "display_data"
    }
   ],
   "source": [
    "Per_Capita_final_df_CA.plot(kind=\"bar\", label=\"SF\", rot=0)\n",
    "plt.xlabel(\"\")\n",
    "Per_Capita_final_df_NY.plot(kind=\"bar\", label=\"NY\", rot=0)\n",
    "plt.xlabel(\"\")\n",
    "plt.ylim(0,80000)\n",
    "Per_Capita_final_df_TX.plot(kind=\"bar\", label=\"TX\", rot=0)\n",
    "plt.xlabel(\"\")\n",
    "plt.ylim(0,80000)\n",
    "plt.show()"
   ]
  },
  {
   "cell_type": "code",
   "execution_count": null,
   "metadata": {
    "collapsed": true
   },
   "outputs": [],
   "source": []
  }
 ],
 "metadata": {
  "kernelspec": {
   "display_name": "Python 3",
   "language": "python",
   "name": "python3"
  },
  "language_info": {
   "codemirror_mode": {
    "name": "ipython",
    "version": 3
   },
   "file_extension": ".py",
   "mimetype": "text/x-python",
   "name": "python",
   "nbconvert_exporter": "python",
   "pygments_lexer": "ipython3",
   "version": "3.6.3"
  }
 },
 "nbformat": 4,
 "nbformat_minor": 2
}
